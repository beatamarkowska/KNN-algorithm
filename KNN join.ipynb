{
 "cells": [
  {
   "cell_type": "markdown",
   "id": "895dc9d2-0e60-4663-85ab-6ba9f98d61b4",
   "metadata": {},
   "source": [
    "k-Nearest Neighbors (kNN) joins in WherobotsDB"
   ]
  },
  {
   "cell_type": "code",
   "execution_count": null,
   "id": "9ab148d0-19c3-40da-a212-159defc0509e",
   "metadata": {},
   "outputs": [],
   "source": []
  },
  {
   "cell_type": "markdown",
   "id": "f26b725b-e735-414e-b774-220dba854af6",
   "metadata": {},
   "source": [
    "A geospatial k-Nearest Neighbors (kNN) join is a specialized form of the kNN join that specifically deals with geospatial data. This method involves identifying the k-nearest neighbors for a given spatial point or region based on geographic proximity, typically using spatial coordinates and a suitable distance metric like Euclidean or great-circle distance.\n",
    "\n",
    "Approximate kNN Join\n",
    "\n",
    "The approximate k-Nearest Neighbor (kNN) algorithm utilizes an approximation method to map and distribute multidimensional data into a single dimension while maintaining some degree of locality. This approach allows for the efficient generation of approximate k-Nearest Neighbors for each geometry in the query dataset.\n",
    "\n",
    "Exact kNN Join\n",
    "\n",
    "The exact k-Nearest Neighbor (kNN) algorithm begins by partitioning the dataset to maintain spatial locality. It then constructs an efficient structure over another dataset to quickly find accurate kNN matches. By combining local results, the algorithm delivers the complete kNN join for both datasets."
   ]
  },
  {
   "cell_type": "code",
   "execution_count": 1,
   "id": "570ebed1-402e-41fb-8732-5e2c8cdc7529",
   "metadata": {
    "execution": {
     "iopub.execute_input": "2025-03-22T18:20:36.401259Z",
     "iopub.status.busy": "2025-03-22T18:20:36.400842Z",
     "iopub.status.idle": "2025-03-22T18:21:01.629491Z",
     "shell.execute_reply": "2025-03-22T18:21:01.628749Z",
     "shell.execute_reply.started": "2025-03-22T18:20:36.401241Z"
    }
   },
   "outputs": [
    {
     "name": "stderr",
     "output_type": "stream",
     "text": [
      "Setting default log level to \"WARN\".\n",
      "To adjust logging level use sc.setLogLevel(newLevel). For SparkR, use setLogLevel(newLevel).\n",
      "                                                                                \r"
     ]
    }
   ],
   "source": [
    "from sedona.spark import *\n",
    "\n",
    "config = SedonaContext.builder().getOrCreate()\n",
    "sedona = SedonaContext.create(config)\n"
   ]
  },
  {
   "cell_type": "markdown",
   "id": "b947795a-9e97-443c-9712-6654a2f1de92",
   "metadata": {},
   "source": [
    "In this use case, the k-Nearest Neighbor (kNN) join is applied to match places with nearby flights. The Queries table contains the locations of Overture Maps places, such as schools, businesses, hospitals, religious organizations, landmarks, and mountain peak, while the Objects table holds the locations of flights. The goal is to find which flights are closest to each place, which can be crucial for making real-time decisions in air traffic management and ensuring flight safety."
   ]
  },
  {
   "cell_type": "code",
   "execution_count": 2,
   "id": "f592e14b-1045-46fc-a0e0-cbfe6872194d",
   "metadata": {
    "execution": {
     "iopub.execute_input": "2025-03-22T18:22:09.087999Z",
     "iopub.status.busy": "2025-03-22T18:22:09.087782Z",
     "iopub.status.idle": "2025-03-22T18:22:09.090771Z",
     "shell.execute_reply": "2025-03-22T18:22:09.090273Z",
     "shell.execute_reply.started": "2025-03-22T18:22:09.087977Z"
    }
   },
   "outputs": [],
   "source": [
    "# Wyoming state boundary\n",
    "spatial_filter = \"POLYGON((-104.0556 41.0037,-104.0584 44.9949,-111.0539 44.9998,-111.0457 40.9986,-104.0556 41.0006,-104.0556 41.0037))\""
   ]
  },
  {
   "cell_type": "markdown",
   "id": "cc1dfde0-79a9-4ce0-b40c-48cd77b36c54",
   "metadata": {},
   "source": [
    "Queries Table: Places\n",
    "This table contains the objects for which I want to find the nearest neighbors."
   ]
  },
  {
   "cell_type": "code",
   "execution_count": 3,
   "id": "38aae33d-9aae-4ebd-adcf-6ba1ae007f2e",
   "metadata": {
    "execution": {
     "iopub.execute_input": "2025-03-22T18:23:20.939609Z",
     "iopub.status.busy": "2025-03-22T18:23:20.939397Z",
     "iopub.status.idle": "2025-03-22T18:23:20.942427Z",
     "shell.execute_reply": "2025-03-22T18:23:20.941896Z",
     "shell.execute_reply.started": "2025-03-22T18:23:20.939593Z"
    }
   },
   "outputs": [],
   "source": [
    "from pyspark.sql.functions import col\n",
    "from pyspark.sql.functions import monotonically_increasing_id, col"
   ]
  },
  {
   "cell_type": "code",
   "execution_count": 39,
   "id": "0922df97-6c20-400b-b80a-3b7924c5c762",
   "metadata": {
    "execution": {
     "iopub.execute_input": "2025-03-22T19:31:24.282401Z",
     "iopub.status.busy": "2025-03-22T19:31:24.281775Z",
     "iopub.status.idle": "2025-03-22T19:31:24.511750Z",
     "shell.execute_reply": "2025-03-22T19:31:24.511119Z",
     "shell.execute_reply.started": "2025-03-22T19:31:24.282375Z"
    }
   },
   "outputs": [],
   "source": [
    "# load data\n",
    "df_queries = sedona.table(\"wherobots_open_data.overture.places_place\")"
   ]
  },
  {
   "cell_type": "code",
   "execution_count": 40,
   "id": "03b75d3c-2c93-40dd-a6a5-af3676169158",
   "metadata": {
    "execution": {
     "iopub.execute_input": "2025-03-22T19:32:00.913237Z",
     "iopub.status.busy": "2025-03-22T19:32:00.912665Z",
     "iopub.status.idle": "2025-03-22T19:32:00.916353Z",
     "shell.execute_reply": "2025-03-22T19:32:00.915884Z",
     "shell.execute_reply.started": "2025-03-22T19:32:00.913210Z"
    }
   },
   "outputs": [
    {
     "name": "stdout",
     "output_type": "stream",
     "text": [
      "root\n",
      " |-- id: string (nullable = true)\n",
      " |-- updatetime: string (nullable = true)\n",
      " |-- version: integer (nullable = true)\n",
      " |-- names: map (nullable = true)\n",
      " |    |-- key: string\n",
      " |    |-- value: array (valueContainsNull = true)\n",
      " |    |    |-- element: map (containsNull = true)\n",
      " |    |    |    |-- key: string\n",
      " |    |    |    |-- value: string (valueContainsNull = true)\n",
      " |-- categories: struct (nullable = true)\n",
      " |    |-- main: string (nullable = true)\n",
      " |    |-- alternate: array (nullable = true)\n",
      " |    |    |-- element: string (containsNull = true)\n",
      " |-- confidence: double (nullable = true)\n",
      " |-- websites: array (nullable = true)\n",
      " |    |-- element: string (containsNull = true)\n",
      " |-- socials: array (nullable = true)\n",
      " |    |-- element: string (containsNull = true)\n",
      " |-- emails: array (nullable = true)\n",
      " |    |-- element: string (containsNull = true)\n",
      " |-- phones: array (nullable = true)\n",
      " |    |-- element: string (containsNull = true)\n",
      " |-- brand: struct (nullable = true)\n",
      " |    |-- names: map (nullable = true)\n",
      " |    |    |-- key: string\n",
      " |    |    |-- value: array (valueContainsNull = true)\n",
      " |    |    |    |-- element: map (containsNull = true)\n",
      " |    |    |    |    |-- key: string\n",
      " |    |    |    |    |-- value: string (valueContainsNull = true)\n",
      " |    |-- wikidata: string (nullable = true)\n",
      " |-- addresses: array (nullable = true)\n",
      " |    |-- element: map (containsNull = true)\n",
      " |    |    |-- key: string\n",
      " |    |    |-- value: string (valueContainsNull = true)\n",
      " |-- sources: array (nullable = true)\n",
      " |    |-- element: map (containsNull = true)\n",
      " |    |    |-- key: string\n",
      " |    |    |-- value: string (valueContainsNull = true)\n",
      " |-- bbox: struct (nullable = true)\n",
      " |    |-- minx: double (nullable = true)\n",
      " |    |-- maxx: double (nullable = true)\n",
      " |    |-- miny: double (nullable = true)\n",
      " |    |-- maxy: double (nullable = true)\n",
      " |-- geometry: geometry (nullable = true)\n",
      " |-- geohash: string (nullable = true)\n",
      "\n"
     ]
    }
   ],
   "source": [
    "df_queries.printSchema()"
   ]
  },
  {
   "cell_type": "code",
   "execution_count": 42,
   "id": "d320c63b-5b7f-44ea-929e-0898ffa86551",
   "metadata": {
    "execution": {
     "iopub.execute_input": "2025-03-22T19:34:54.455399Z",
     "iopub.status.busy": "2025-03-22T19:34:54.455187Z",
     "iopub.status.idle": "2025-03-22T19:34:55.558049Z",
     "shell.execute_reply": "2025-03-22T19:34:55.557493Z",
     "shell.execute_reply.started": "2025-03-22T19:34:54.455383Z"
    }
   },
   "outputs": [
    {
     "name": "stdout",
     "output_type": "stream",
     "text": [
      "+--------------------+--------------------+\n",
      "|                  id|               names|\n",
      "+--------------------+--------------------+\n",
      "|tmp_E0A4EB35FCFB2...|{common -> [{valu...|\n",
      "|tmp_1F0F886124540...|{common -> [{valu...|\n",
      "|tmp_0B84DA7C47022...|{common -> [{valu...|\n",
      "|tmp_8CA74E2D99550...|{common -> [{valu...|\n",
      "|tmp_609ABFA9C7DBC...|{common -> [{valu...|\n",
      "|tmp_B69F92A75A9D3...|{common -> [{valu...|\n",
      "|tmp_89F47CE8D2182...|{common -> [{valu...|\n",
      "|tmp_2CDA20AD7CBAC...|{common -> [{valu...|\n",
      "|tmp_D48FFE2496D33...|{common -> [{valu...|\n",
      "|tmp_000D5178CD984...|{common -> [{valu...|\n",
      "|tmp_BF199FDEDADEB...|{common -> [{valu...|\n",
      "|tmp_3614165B0CB29...|{common -> [{valu...|\n",
      "|tmp_655C61CF86477...|{common -> [{valu...|\n",
      "|tmp_638F36CFFD826...|{common -> [{valu...|\n",
      "|tmp_01E78355F2B29...|{common -> [{valu...|\n",
      "|tmp_270DA60D293EC...|{common -> [{valu...|\n",
      "|tmp_9A1FB9BEB5147...|{common -> [{valu...|\n",
      "|tmp_7ED9BE955EFE3...|{common -> [{valu...|\n",
      "|tmp_53F9A21CD7586...|{common -> [{valu...|\n",
      "|tmp_44A2704E4276A...|{common -> [{valu...|\n",
      "+--------------------+--------------------+\n",
      "only showing top 20 rows\n",
      "\n"
     ]
    },
    {
     "name": "stderr",
     "output_type": "stream",
     "text": [
      "                                                                                \r"
     ]
    }
   ],
   "source": [
    "# Tworzymy zapytanie SQL\n",
    "sedona.sql(\"\"\"\n",
    "    CREATE OR REPLACE TEMP VIEW selected_columns AS\n",
    "    SELECT\n",
    "        id,\n",
    "        names\n",
    "    FROM wherobots_open_data.overture.places_place\n",
    "\"\"\")\n",
    "\n",
    "# Odczytujemy wybrane kolumny z tabeli\n",
    "df_selected = sedona.table(\"selected_columns\")\n",
    "\n",
    "# Możesz teraz pracować z df_selected\n",
    "df_selected.show()"
   ]
  },
  {
   "cell_type": "code",
   "execution_count": 43,
   "id": "a592a7e7-4f9b-4259-bc0a-0c32cb1e8912",
   "metadata": {
    "execution": {
     "iopub.execute_input": "2025-03-22T19:35:25.708311Z",
     "iopub.status.busy": "2025-03-22T19:35:25.708067Z",
     "iopub.status.idle": "2025-03-22T19:35:25.720643Z",
     "shell.execute_reply": "2025-03-22T19:35:25.720127Z",
     "shell.execute_reply.started": "2025-03-22T19:35:25.708294Z"
    }
   },
   "outputs": [],
   "source": [
    "\n",
    "df_queries = df_queries.withColumn(\"id\", monotonically_increasing_id())\n",
    "df_queries = df_queries.filter(f\"ST_Contains(ST_GeomFromWKT('{spatial_filter}'), geometry) = true\")"
   ]
  },
  {
   "cell_type": "code",
   "execution_count": 44,
   "id": "f07977ec-b985-4bdf-8399-b5056fe39715",
   "metadata": {
    "execution": {
     "iopub.execute_input": "2025-03-22T19:36:17.466243Z",
     "iopub.status.busy": "2025-03-22T19:36:17.466016Z",
     "iopub.status.idle": "2025-03-22T19:36:17.470142Z",
     "shell.execute_reply": "2025-03-22T19:36:17.469564Z",
     "shell.execute_reply.started": "2025-03-22T19:36:17.466226Z"
    }
   },
   "outputs": [
    {
     "name": "stdout",
     "output_type": "stream",
     "text": [
      "root\n",
      " |-- id: long (nullable = false)\n",
      " |-- updatetime: string (nullable = true)\n",
      " |-- version: integer (nullable = true)\n",
      " |-- names: map (nullable = true)\n",
      " |    |-- key: string\n",
      " |    |-- value: array (valueContainsNull = true)\n",
      " |    |    |-- element: map (containsNull = true)\n",
      " |    |    |    |-- key: string\n",
      " |    |    |    |-- value: string (valueContainsNull = true)\n",
      " |-- categories: struct (nullable = true)\n",
      " |    |-- main: string (nullable = true)\n",
      " |    |-- alternate: array (nullable = true)\n",
      " |    |    |-- element: string (containsNull = true)\n",
      " |-- confidence: double (nullable = true)\n",
      " |-- websites: array (nullable = true)\n",
      " |    |-- element: string (containsNull = true)\n",
      " |-- socials: array (nullable = true)\n",
      " |    |-- element: string (containsNull = true)\n",
      " |-- emails: array (nullable = true)\n",
      " |    |-- element: string (containsNull = true)\n",
      " |-- phones: array (nullable = true)\n",
      " |    |-- element: string (containsNull = true)\n",
      " |-- brand: struct (nullable = true)\n",
      " |    |-- names: map (nullable = true)\n",
      " |    |    |-- key: string\n",
      " |    |    |-- value: array (valueContainsNull = true)\n",
      " |    |    |    |-- element: map (containsNull = true)\n",
      " |    |    |    |    |-- key: string\n",
      " |    |    |    |    |-- value: string (valueContainsNull = true)\n",
      " |    |-- wikidata: string (nullable = true)\n",
      " |-- addresses: array (nullable = true)\n",
      " |    |-- element: map (containsNull = true)\n",
      " |    |    |-- key: string\n",
      " |    |    |-- value: string (valueContainsNull = true)\n",
      " |-- sources: array (nullable = true)\n",
      " |    |-- element: map (containsNull = true)\n",
      " |    |    |-- key: string\n",
      " |    |    |-- value: string (valueContainsNull = true)\n",
      " |-- bbox: struct (nullable = true)\n",
      " |    |-- minx: double (nullable = true)\n",
      " |    |-- maxx: double (nullable = true)\n",
      " |    |-- miny: double (nullable = true)\n",
      " |    |-- maxy: double (nullable = true)\n",
      " |-- geometry: geometry (nullable = true)\n",
      " |-- geohash: string (nullable = true)\n",
      "\n"
     ]
    }
   ],
   "source": [
    "df_queries.printSchema()"
   ]
  },
  {
   "cell_type": "code",
   "execution_count": 46,
   "id": "ec4cb92b-f47e-47c5-a67a-e883935cc7f4",
   "metadata": {
    "execution": {
     "iopub.execute_input": "2025-03-22T19:40:23.337148Z",
     "iopub.status.busy": "2025-03-22T19:40:23.336953Z",
     "iopub.status.idle": "2025-03-22T19:40:36.104230Z",
     "shell.execute_reply": "2025-03-22T19:40:36.103602Z",
     "shell.execute_reply.started": "2025-03-22T19:40:23.337133Z"
    }
   },
   "outputs": [
    {
     "name": "stderr",
     "output_type": "stream",
     "text": [
      "[Stage 289:=====================================================>(99 + 1) / 100]\r"
     ]
    },
    {
     "name": "stdout",
     "output_type": "stream",
     "text": [
      "+------------+--------------------+\n",
      "|          id|               names|\n",
      "+------------+--------------------+\n",
      "|661424963604|{common -> [{valu...|\n",
      "|661424963605|{common -> [{valu...|\n",
      "|661424963607|{common -> [{valu...|\n",
      "|661424963608|{common -> [{valu...|\n",
      "|661424963622|{common -> [{valu...|\n",
      "|661424963624|{common -> [{valu...|\n",
      "|661424963636|{common -> [{valu...|\n",
      "|661424963653|{common -> [{valu...|\n",
      "|661424963655|{common -> [{valu...|\n",
      "|661424963676|{common -> [{valu...|\n",
      "|661424963682|{common -> [{valu...|\n",
      "|661424963686|{common -> [{valu...|\n",
      "|661424963689|{common -> [{valu...|\n",
      "|661424963692|{common -> [{valu...|\n",
      "|661424963694|{common -> [{valu...|\n",
      "|661424963698|{common -> [{valu...|\n",
      "|661424963714|{common -> [{valu...|\n",
      "|661424963718|{common -> [{valu...|\n",
      "|661424963732|{common -> [{valu...|\n",
      "|661424963736|{common -> [{valu...|\n",
      "+------------+--------------------+\n",
      "only showing top 20 rows\n",
      "\n"
     ]
    },
    {
     "name": "stderr",
     "output_type": "stream",
     "text": [
      "                                                                                \r"
     ]
    }
   ],
   "source": [
    "# Rejestrujemy df_queries jako tymczasowy widok\n",
    "df_queries.createOrReplaceTempView(\"df_queries\")\n",
    "\n",
    "# Teraz możemy wykonać zapytanie SQL\n",
    "sedona.sql(\"\"\"\n",
    "    CREATE OR REPLACE TEMP VIEW selected_columns AS\n",
    "    SELECT\n",
    "        id,\n",
    "        names\n",
    "    FROM df_queries\n",
    "\"\"\")\n",
    "\n",
    "# Odczytujemy wybrane kolumny z tabeli\n",
    "df_selected1 = sedona.table(\"selected_columns\")\n",
    "\n",
    "# Możesz teraz pracować z df_selected\n",
    "df_selected1.show()"
   ]
  },
  {
   "cell_type": "code",
   "execution_count": 47,
   "id": "a6dbdb4d-8d2b-4623-8e7e-96b03d20b29c",
   "metadata": {
    "execution": {
     "iopub.execute_input": "2025-03-22T19:42:58.208062Z",
     "iopub.status.busy": "2025-03-22T19:42:58.207871Z",
     "iopub.status.idle": "2025-03-22T19:43:05.215450Z",
     "shell.execute_reply": "2025-03-22T19:43:05.215097Z",
     "shell.execute_reply.started": "2025-03-22T19:42:58.208049Z"
    }
   },
   "outputs": [
    {
     "name": "stderr",
     "output_type": "stream",
     "text": [
      "[Stage 293:====================================================>(123 + 2) / 125]\r"
     ]
    },
    {
     "name": "stdout",
     "output_type": "stream",
     "text": [
      "Brak duplikatów w kolumnie id.\n"
     ]
    },
    {
     "name": "stderr",
     "output_type": "stream",
     "text": [
      "                                                                                \r"
     ]
    }
   ],
   "source": [
    "from pyspark.sql.functions import countDistinct\n",
    "\n",
    "# Liczymy wszystkie wiersze\n",
    "total_rows = df_queries.count()\n",
    "\n",
    "# Liczymy unikalne wartości w kolumnie \"id\"\n",
    "distinct_ids = df_queries.select(countDistinct(\"id\")).collect()[0][0]\n",
    "\n",
    "# Sprawdzamy, czy liczba wierszy jest równa liczbie unikalnych \"id\"\n",
    "if total_rows != distinct_ids:\n",
    "    print(\"Są duplikaty w kolumnie id.\")\n",
    "else:\n",
    "    print(\"Brak duplikatów w kolumnie id.\")"
   ]
  },
  {
   "cell_type": "code",
   "execution_count": 48,
   "id": "6b495d7b-52c6-41ac-9cee-0cc8c35a5fc1",
   "metadata": {
    "execution": {
     "iopub.execute_input": "2025-03-22T19:46:46.648206Z",
     "iopub.status.busy": "2025-03-22T19:46:46.647989Z",
     "iopub.status.idle": "2025-03-22T19:46:46.842085Z",
     "shell.execute_reply": "2025-03-22T19:46:46.841617Z",
     "shell.execute_reply.started": "2025-03-22T19:46:46.648190Z"
    }
   },
   "outputs": [
    {
     "name": "stdout",
     "output_type": "stream",
     "text": [
      "100\n",
      "29010\n"
     ]
    },
    {
     "name": "stderr",
     "output_type": "stream",
     "text": [
      "25/03/22 19:46:46 WARN CacheManager: Asked to cache already cached data.\n"
     ]
    }
   ],
   "source": [
    "df_queries = df_queries.repartition(100)\n",
    "\n",
    "df_queries.cache()\n",
    "\n",
    "df_queries.createOrReplaceTempView(\"queries\")\n",
    "\n",
    "print(df_queries.rdd.getNumPartitions())\n",
    "print(df_queries.count())"
   ]
  },
  {
   "cell_type": "code",
   "execution_count": 49,
   "id": "22646275-b85b-4a39-a47a-2e46bed48e8e",
   "metadata": {
    "execution": {
     "iopub.execute_input": "2025-03-22T19:47:59.978516Z",
     "iopub.status.busy": "2025-03-22T19:47:59.977454Z",
     "iopub.status.idle": "2025-03-22T19:47:59.981121Z",
     "shell.execute_reply": "2025-03-22T19:47:59.980815Z",
     "shell.execute_reply.started": "2025-03-22T19:47:59.978491Z"
    }
   },
   "outputs": [
    {
     "name": "stdout",
     "output_type": "stream",
     "text": [
      "root\n",
      " |-- id: long (nullable = false)\n",
      " |-- updatetime: string (nullable = true)\n",
      " |-- version: integer (nullable = true)\n",
      " |-- names: map (nullable = true)\n",
      " |    |-- key: string\n",
      " |    |-- value: array (valueContainsNull = true)\n",
      " |    |    |-- element: map (containsNull = true)\n",
      " |    |    |    |-- key: string\n",
      " |    |    |    |-- value: string (valueContainsNull = true)\n",
      " |-- categories: struct (nullable = true)\n",
      " |    |-- main: string (nullable = true)\n",
      " |    |-- alternate: array (nullable = true)\n",
      " |    |    |-- element: string (containsNull = true)\n",
      " |-- confidence: double (nullable = true)\n",
      " |-- websites: array (nullable = true)\n",
      " |    |-- element: string (containsNull = true)\n",
      " |-- socials: array (nullable = true)\n",
      " |    |-- element: string (containsNull = true)\n",
      " |-- emails: array (nullable = true)\n",
      " |    |-- element: string (containsNull = true)\n",
      " |-- phones: array (nullable = true)\n",
      " |    |-- element: string (containsNull = true)\n",
      " |-- brand: struct (nullable = true)\n",
      " |    |-- names: map (nullable = true)\n",
      " |    |    |-- key: string\n",
      " |    |    |-- value: array (valueContainsNull = true)\n",
      " |    |    |    |-- element: map (containsNull = true)\n",
      " |    |    |    |    |-- key: string\n",
      " |    |    |    |    |-- value: string (valueContainsNull = true)\n",
      " |    |-- wikidata: string (nullable = true)\n",
      " |-- addresses: array (nullable = true)\n",
      " |    |-- element: map (containsNull = true)\n",
      " |    |    |-- key: string\n",
      " |    |    |-- value: string (valueContainsNull = true)\n",
      " |-- sources: array (nullable = true)\n",
      " |    |-- element: map (containsNull = true)\n",
      " |    |    |-- key: string\n",
      " |    |    |-- value: string (valueContainsNull = true)\n",
      " |-- bbox: struct (nullable = true)\n",
      " |    |-- minx: double (nullable = true)\n",
      " |    |-- maxx: double (nullable = true)\n",
      " |    |-- miny: double (nullable = true)\n",
      " |    |-- maxy: double (nullable = true)\n",
      " |-- geometry: geometry (nullable = true)\n",
      " |-- geohash: string (nullable = true)\n",
      "\n"
     ]
    }
   ],
   "source": [
    "df_queries.printSchema()"
   ]
  },
  {
   "cell_type": "code",
   "execution_count": 50,
   "id": "fb56d152-f62b-4ad2-9ad1-900cc55c16b6",
   "metadata": {
    "execution": {
     "iopub.execute_input": "2025-03-22T19:48:06.418027Z",
     "iopub.status.busy": "2025-03-22T19:48:06.417779Z",
     "iopub.status.idle": "2025-03-22T19:48:06.421123Z",
     "shell.execute_reply": "2025-03-22T19:48:06.420792Z",
     "shell.execute_reply.started": "2025-03-22T19:48:06.418011Z"
    }
   },
   "outputs": [
    {
     "data": {
      "text/plain": [
       "pyspark.sql.dataframe.DataFrame"
      ]
     },
     "execution_count": 50,
     "metadata": {},
     "output_type": "execute_result"
    }
   ],
   "source": [
    "type(df_queries)"
   ]
  },
  {
   "cell_type": "markdown",
   "id": "31a14724-78ec-4d51-b3cc-f86d2c2f2ed7",
   "metadata": {},
   "source": [
    "Objects Table: Flights\n",
    "This table contains the objects that are potential neighbors to the objects in the Queries table."
   ]
  },
  {
   "cell_type": "code",
   "execution_count": 51,
   "id": "be78f2f6-d95d-4f59-868c-df5ab4b62ae7",
   "metadata": {
    "execution": {
     "iopub.execute_input": "2025-03-22T19:48:19.488049Z",
     "iopub.status.busy": "2025-03-22T19:48:19.487810Z",
     "iopub.status.idle": "2025-03-22T19:48:20.196529Z",
     "shell.execute_reply": "2025-03-22T19:48:20.196063Z",
     "shell.execute_reply.started": "2025-03-22T19:48:19.488033Z"
    }
   },
   "outputs": [
    {
     "name": "stderr",
     "output_type": "stream",
     "text": [
      "25/03/22 19:48:19 WARN CacheManager: Asked to cache already cached data.\n"
     ]
    },
    {
     "name": "stdout",
     "output_type": "stream",
     "text": [
      "800\n",
      "1431091\n"
     ]
    }
   ],
   "source": [
    "# Load objects table\n",
    "df_objects = sedona.read.format(\"geoparquet\").load(\"s3a://wherobots-examples/data/examples/flights/2024_s2.parquet\")\n",
    "df_objects = df_objects.filter(f\"ST_Contains(ST_GeomFromWKT('{spatial_filter}'), geometry) = true\")\n",
    "df_objects = df_objects.repartition(800)\n",
    "\n",
    "df_objects.cache()\n",
    "\n",
    "df_objects.createOrReplaceTempView(\"objects\")\n",
    "\n",
    "print(df_objects.rdd.getNumPartitions())\n",
    "print(df_objects.count())"
   ]
  },
  {
   "cell_type": "code",
   "execution_count": 52,
   "id": "fa2837b9-0f31-407f-86dd-bc370d236395",
   "metadata": {
    "execution": {
     "iopub.execute_input": "2025-03-22T19:48:28.208993Z",
     "iopub.status.busy": "2025-03-22T19:48:28.208739Z",
     "iopub.status.idle": "2025-03-22T19:48:28.212136Z",
     "shell.execute_reply": "2025-03-22T19:48:28.211664Z",
     "shell.execute_reply.started": "2025-03-22T19:48:28.208975Z"
    }
   },
   "outputs": [
    {
     "name": "stdout",
     "output_type": "stream",
     "text": [
      "root\n",
      " |-- dbFlags: long (nullable = true)\n",
      " |-- desc: string (nullable = true)\n",
      " |-- icao: string (nullable = true)\n",
      " |-- ownOp: string (nullable = true)\n",
      " |-- r: string (nullable = true)\n",
      " |-- reg_details: struct (nullable = true)\n",
      " |    |-- description: string (nullable = true)\n",
      " |    |-- iso2: string (nullable = true)\n",
      " |    |-- iso3: string (nullable = true)\n",
      " |    |-- nation: string (nullable = true)\n",
      " |-- t: string (nullable = true)\n",
      " |-- timestamp: string (nullable = true)\n",
      " |-- trace: struct (nullable = true)\n",
      " |    |-- aircraft: struct (nullable = true)\n",
      " |    |    |-- alert: long (nullable = true)\n",
      " |    |    |-- alt_geom: long (nullable = true)\n",
      " |    |    |-- baro_rate: long (nullable = true)\n",
      " |    |    |-- category: string (nullable = true)\n",
      " |    |    |-- emergency: string (nullable = true)\n",
      " |    |    |-- flight: string (nullable = true)\n",
      " |    |    |-- geom_rate: long (nullable = true)\n",
      " |    |    |-- gva: long (nullable = true)\n",
      " |    |    |-- ias: long (nullable = true)\n",
      " |    |    |-- mach: double (nullable = true)\n",
      " |    |    |-- mag_heading: double (nullable = true)\n",
      " |    |    |-- nac_p: long (nullable = true)\n",
      " |    |    |-- nac_v: long (nullable = true)\n",
      " |    |    |-- nav_altitude_fms: long (nullable = true)\n",
      " |    |    |-- nav_altitude_mcp: long (nullable = true)\n",
      " |    |    |-- nav_heading: double (nullable = true)\n",
      " |    |    |-- nav_modes: array (nullable = true)\n",
      " |    |    |    |-- element: string (containsNull = true)\n",
      " |    |    |-- nav_qnh: double (nullable = true)\n",
      " |    |    |-- nic: long (nullable = true)\n",
      " |    |    |-- nic_baro: long (nullable = true)\n",
      " |    |    |-- oat: long (nullable = true)\n",
      " |    |    |-- rc: long (nullable = true)\n",
      " |    |    |-- roll: double (nullable = true)\n",
      " |    |    |-- sda: long (nullable = true)\n",
      " |    |    |-- sil: long (nullable = true)\n",
      " |    |    |-- sil_type: string (nullable = true)\n",
      " |    |    |-- spi: long (nullable = true)\n",
      " |    |    |-- squawk: string (nullable = true)\n",
      " |    |    |-- tas: long (nullable = true)\n",
      " |    |    |-- tat: long (nullable = true)\n",
      " |    |    |-- track: double (nullable = true)\n",
      " |    |    |-- track_rate: double (nullable = true)\n",
      " |    |    |-- true_heading: double (nullable = true)\n",
      " |    |    |-- type: string (nullable = true)\n",
      " |    |    |-- version: long (nullable = true)\n",
      " |    |    |-- wd: long (nullable = true)\n",
      " |    |    |-- ws: long (nullable = true)\n",
      " |    |-- altitude: long (nullable = true)\n",
      " |    |-- flags: long (nullable = true)\n",
      " |    |-- geometric_altitude: long (nullable = true)\n",
      " |    |-- geometric_vertical_rate: long (nullable = true)\n",
      " |    |-- ground_speed: double (nullable = true)\n",
      " |    |-- h3_5: string (nullable = true)\n",
      " |    |-- indicated_airspeed: long (nullable = true)\n",
      " |    |-- lat: double (nullable = true)\n",
      " |    |-- lon: double (nullable = true)\n",
      " |    |-- roll_angle: double (nullable = true)\n",
      " |    |-- source: string (nullable = true)\n",
      " |    |-- timestamp: string (nullable = true)\n",
      " |    |-- track_degrees: double (nullable = true)\n",
      " |    |-- vertical_rate: long (nullable = true)\n",
      " |-- year: string (nullable = true)\n",
      " |-- geometry: geometry (nullable = true)\n",
      " |-- date: date (nullable = true)\n",
      " |-- s2: long (nullable = true)\n",
      "\n"
     ]
    }
   ],
   "source": [
    "df_objects.printSchema()"
   ]
  },
  {
   "cell_type": "markdown",
   "id": "6a36e9a0-00e3-45ce-b9c0-46ecf08d9494",
   "metadata": {},
   "source": [
    "The code executes a spatial query in Apache Sedona (GeoSpark) and computes k-nearest neighbors (k-NN) between two datasets.\n",
    "The query performs spatial analysis using Sedona (GeoSpark).\n",
    "QUERIES and OBJECTS are tables (or DataFrames) that contain spatial data.\n",
    "ST_KNN(QUERIES.GEOMETRY, OBJECTS.GEOMETRY, 4, FALSE): This function finds the 4 nearest neighbors for each record in the QUERIES table relative to the objects in the OBJECTS table. The parameter FALSE means that we will not consider results that are exactly the same objects (filtering of independent neighbors).\n",
    "ST_DISTANCESPHERE(QUERIES.GEOMETRY, OBJECTS.GEOMETRY): Calculates the spherical distance (on the surface of the globe) between two geometries.\n",
    "ST_MAKELINE(QUERIES.GEOMETRY, OBJECTS.GEOMETRY): Creates a geometry line connecting points QUERIES.GEOMETRY and OBJECTS.GEOMETRY.\n",
    "3. df_knn_join.cache()\n",
    "The cache() function stores the query result in a cache, which makes subsequent operations or queries on this DataFrame faster because the data does not need to be recalculated or reloaded.\n",
    "The code executes a query that finds the 4 nearest neighbors for each record in the QUERIES table for the objects in the OBJECTS table. This query also calculates the spherical distance and creates lines connecting pairs of geometries. Finally, the result is stored in memory and the number of rows in the result is counted and displayed. Using the cache() function speeds up subsequent operations on the data if it will be used multiple times."
   ]
  },
  {
   "cell_type": "code",
   "execution_count": 53,
   "id": "c1230984-d5f1-4bdf-a598-c2c951789ee0",
   "metadata": {
    "execution": {
     "iopub.execute_input": "2025-03-22T19:48:40.080505Z",
     "iopub.status.busy": "2025-03-22T19:48:40.079917Z",
     "iopub.status.idle": "2025-03-22T19:48:45.286421Z",
     "shell.execute_reply": "2025-03-22T19:48:45.285358Z",
     "shell.execute_reply.started": "2025-03-22T19:48:40.080482Z"
    }
   },
   "outputs": [
    {
     "name": "stderr",
     "output_type": "stream",
     "text": [
      "25/03/22 19:48:40 WARN CacheManager: Asked to cache already cached data.\n",
      "[Stage 315:==================================================>(2082 + 3) / 2113]\r"
     ]
    },
    {
     "name": "stdout",
     "output_type": "stream",
     "text": [
      "116040\n",
      "CPU times: user 8.95 ms, sys: 4.94 ms, total: 13.9 ms\n",
      "Wall time: 5.2 s\n"
     ]
    },
    {
     "name": "stderr",
     "output_type": "stream",
     "text": [
      "                                                                                \r"
     ]
    }
   ],
   "source": [
    "%%time\n",
    "\n",
    "df_knn_join = sedona.sql(\"\"\"\n",
    "SELECT\n",
    "    QUERIES.GEOMETRY AS QUERIES_GEOM,\n",
    "    QUERIES.ID AS QID,\n",
    "    OBJECTS.GEOMETRY AS OBJECTS_GEOM,\n",
    "    ST_DISTANCESPHERE(QUERIES.GEOMETRY, OBJECTS.GEOMETRY) AS DISTANCE,\n",
    "    ST_MAKELINE(QUERIES.GEOMETRY, OBJECTS.GEOMETRY) AS LINE\n",
    "FROM QUERIES\n",
    "JOIN OBJECTS ON ST_KNN(QUERIES.GEOMETRY, OBJECTS.GEOMETRY, 4, FALSE)\n",
    "\"\"\")\n",
    "\n",
    "# cache for further queries and visualization\n",
    "df_knn_join.cache()\n",
    "\n",
    "total_count = df_knn_join.count()\n",
    "print(total_count)"
   ]
  },
  {
   "cell_type": "code",
   "execution_count": 38,
   "id": "091e34fc-7d0c-46e6-955d-3ccfce2b4c13",
   "metadata": {
    "execution": {
     "iopub.execute_input": "2025-03-22T19:27:28.928315Z",
     "iopub.status.busy": "2025-03-22T19:27:28.928074Z",
     "iopub.status.idle": "2025-03-22T19:27:29.020504Z",
     "shell.execute_reply": "2025-03-22T19:27:29.019790Z",
     "shell.execute_reply.started": "2025-03-22T19:27:28.928299Z"
    }
   },
   "outputs": [
    {
     "name": "stdout",
     "output_type": "stream",
     "text": [
      "+--------------------+------------+--------------------+------------------+--------------------+\n",
      "|        QUERIES_GEOM|         QID|        OBJECTS_GEOM|          DISTANCE|                LINE|\n",
      "+--------------------+------------+--------------------+------------------+--------------------+\n",
      "|POINT (-110.885 4...|661425021290|POINT (-110.88769...|243.42429137166317|LINESTRING (-110....|\n",
      "|POINT (-110.885 4...|661425021290|POINT (-110.88651...|485.20524474148715|LINESTRING (-110....|\n",
      "|POINT (-110.885 4...|661425021290|POINT (-110.88520...| 643.5787783557646|LINESTRING (-110....|\n",
      "+--------------------+------------+--------------------+------------------+--------------------+\n",
      "only showing top 3 rows\n",
      "\n"
     ]
    }
   ],
   "source": [
    "df_knn_join.show(3)"
   ]
  },
  {
   "cell_type": "code",
   "execution_count": 55,
   "id": "22a6995b-eeaa-4cf4-9fb7-921e3cf5f8d6",
   "metadata": {
    "execution": {
     "iopub.execute_input": "2025-03-22T19:51:25.222282Z",
     "iopub.status.busy": "2025-03-22T19:51:25.222051Z",
     "iopub.status.idle": "2025-03-22T19:51:30.415211Z",
     "shell.execute_reply": "2025-03-22T19:51:30.414369Z",
     "shell.execute_reply.started": "2025-03-22T19:51:25.222265Z"
    }
   },
   "outputs": [
    {
     "name": "stderr",
     "output_type": "stream",
     "text": [
      "                                                                                \r"
     ]
    },
    {
     "data": {
      "text/plain": [
       "116040"
      ]
     },
     "execution_count": 55,
     "metadata": {},
     "output_type": "execute_result"
    }
   ],
   "source": [
    "df_knn_join.count()"
   ]
  },
  {
   "cell_type": "code",
   "execution_count": 54,
   "id": "c5277843-6668-43ca-b874-c067eff28527",
   "metadata": {
    "execution": {
     "iopub.execute_input": "2025-03-22T19:50:18.447142Z",
     "iopub.status.busy": "2025-03-22T19:50:18.446948Z",
     "iopub.status.idle": "2025-03-22T19:50:24.394939Z",
     "shell.execute_reply": "2025-03-22T19:50:24.394309Z",
     "shell.execute_reply.started": "2025-03-22T19:50:18.447127Z"
    }
   },
   "outputs": [
    {
     "name": "stderr",
     "output_type": "stream",
     "text": [
      "[Stage 326:==================================================>(2093 + 3) / 2113]\r"
     ]
    },
    {
     "name": "stdout",
     "output_type": "stream",
     "text": [
      "+------------+-----+\n",
      "|         QID|count|\n",
      "+------------+-----+\n",
      "|661425182760|    4|\n",
      "|661425228876|    4|\n",
      "|661425021290|    4|\n",
      "|661425252349|    4|\n",
      "|661425141725|    4|\n",
      "|661425113566|    4|\n",
      "|661425140390|    4|\n",
      "|661425204631|    4|\n",
      "|661424981447|    4|\n",
      "|661424977924|    4|\n",
      "|661425215417|    4|\n",
      "|661425014918|    4|\n",
      "|661425010515|    4|\n",
      "|661425188311|    4|\n",
      "|661425220523|    4|\n",
      "|661425033155|    4|\n",
      "|661425224658|    4|\n",
      "|661425230126|    4|\n",
      "|661424975096|    4|\n",
      "|661425003025|    4|\n",
      "+------------+-----+\n",
      "only showing top 20 rows\n",
      "\n"
     ]
    },
    {
     "name": "stderr",
     "output_type": "stream",
     "text": [
      "                                                                                \r"
     ]
    }
   ],
   "source": [
    "from pyspark.sql import functions as F\n",
    "\n",
    "# Sprawdzamy, czy QID ma duplikaty\n",
    "duplicate_qids = df_knn_join.groupBy(\"QID\").count().filter(F.col(\"count\") > 1)\n",
    "\n",
    "# Wyświetlamy wyniki\n",
    "duplicate_qids.show()"
   ]
  },
  {
   "cell_type": "code",
   "execution_count": 15,
   "id": "a410a580-2a46-45af-82bb-6fadc4fd922d",
   "metadata": {
    "execution": {
     "iopub.execute_input": "2025-03-22T18:52:58.448421Z",
     "iopub.status.busy": "2025-03-22T18:52:58.448215Z",
     "iopub.status.idle": "2025-03-22T18:52:58.456737Z",
     "shell.execute_reply": "2025-03-22T18:52:58.456235Z",
     "shell.execute_reply.started": "2025-03-22T18:52:58.448407Z"
    }
   },
   "outputs": [],
   "source": [
    "# Select N unique QID rows\n",
    "df_unique_qid = df_knn_join.dropDuplicates([\"QUERIES_GEOM\"])"
   ]
  },
  {
   "cell_type": "code",
   "execution_count": 17,
   "id": "4540d68f-5862-4641-9b01-645eb2872280",
   "metadata": {
    "execution": {
     "iopub.execute_input": "2025-03-22T18:53:39.992281Z",
     "iopub.status.busy": "2025-03-22T18:53:39.991753Z",
     "iopub.status.idle": "2025-03-22T18:53:46.501058Z",
     "shell.execute_reply": "2025-03-22T18:53:46.500456Z",
     "shell.execute_reply.started": "2025-03-22T18:53:39.992266Z"
    }
   },
   "outputs": [
    {
     "name": "stderr",
     "output_type": "stream",
     "text": [
      "                                                                                \r"
     ]
    },
    {
     "data": {
      "text/plain": [
       "26557"
      ]
     },
     "execution_count": 17,
     "metadata": {},
     "output_type": "execute_result"
    }
   ],
   "source": [
    "df_unique_qid.count()"
   ]
  },
  {
   "cell_type": "code",
   "execution_count": 18,
   "id": "0df2f942-0682-4d34-8ab0-81fd021f16c2",
   "metadata": {
    "execution": {
     "iopub.execute_input": "2025-03-22T18:55:41.648313Z",
     "iopub.status.busy": "2025-03-22T18:55:41.648105Z",
     "iopub.status.idle": "2025-03-22T18:55:48.406771Z",
     "shell.execute_reply": "2025-03-22T18:55:48.406279Z",
     "shell.execute_reply.started": "2025-03-22T18:55:41.648298Z"
    }
   },
   "outputs": [
    {
     "name": "stderr",
     "output_type": "stream",
     "text": [
      "[Stage 76:===================================================>(2103 + 3) / 2113]\r"
     ]
    },
    {
     "name": "stdout",
     "output_type": "stream",
     "text": [
      "+--------------------+------------+--------------------+------------------+--------------------+\n",
      "|        QUERIES_GEOM|         QID|        OBJECTS_GEOM|          DISTANCE|                LINE|\n",
      "+--------------------+------------+--------------------+------------------+--------------------+\n",
      "|POINT (-104.0625 ...|661425201683|POINT (-104.06160...| 87.44867615586293|LINESTRING (-104....|\n",
      "|POINT (-108.28125...|661425132764|POINT (-108.28196...| 970.7136646090928|LINESTRING (-108....|\n",
      "|POINT (-108.28125...|661425177751|POINT (-108.10712...|15132.365068235968|LINESTRING (-108....|\n",
      "+--------------------+------------+--------------------+------------------+--------------------+\n",
      "only showing top 3 rows\n",
      "\n"
     ]
    },
    {
     "name": "stderr",
     "output_type": "stream",
     "text": [
      "                                                                                \r"
     ]
    }
   ],
   "source": [
    "df_unique_qid.show(3)"
   ]
  },
  {
   "cell_type": "code",
   "execution_count": 19,
   "id": "e5c17103-287c-48e4-9bdd-cb2665c9a1ac",
   "metadata": {
    "execution": {
     "iopub.execute_input": "2025-03-22T19:03:37.336183Z",
     "iopub.status.busy": "2025-03-22T19:03:37.335975Z",
     "iopub.status.idle": "2025-03-22T19:03:37.368993Z",
     "shell.execute_reply": "2025-03-22T19:03:37.368653Z",
     "shell.execute_reply.started": "2025-03-22T19:03:37.336167Z"
    }
   },
   "outputs": [],
   "source": [
    "# Perform an inner join to get all rows from join_df that have QIDs in unique_qid_df\n",
    "df_related_rows = df_knn_join.join(df_unique_qid, on=\"QID\", how=\"inner\").select(df_knn_join[\"*\"])"
   ]
  },
  {
   "cell_type": "code",
   "execution_count": 20,
   "id": "23ba21d5-15f3-4661-85ac-be57bf107b11",
   "metadata": {
    "execution": {
     "iopub.execute_input": "2025-03-22T19:04:08.287860Z",
     "iopub.status.busy": "2025-03-22T19:04:08.287634Z",
     "iopub.status.idle": "2025-03-22T19:04:19.822215Z",
     "shell.execute_reply": "2025-03-22T19:04:19.821593Z",
     "shell.execute_reply.started": "2025-03-22T19:04:08.287845Z"
    }
   },
   "outputs": [
    {
     "name": "stderr",
     "output_type": "stream",
     "text": [
      "                                                                                \r"
     ]
    },
    {
     "data": {
      "text/plain": [
       "106228"
      ]
     },
     "execution_count": 20,
     "metadata": {},
     "output_type": "execute_result"
    }
   ],
   "source": [
    "df_related_rows.count()"
   ]
  },
  {
   "cell_type": "code",
   "execution_count": 21,
   "id": "b8808826-0b19-48c1-9484-1aa084fd3e69",
   "metadata": {
    "execution": {
     "iopub.execute_input": "2025-03-22T19:05:39.088537Z",
     "iopub.status.busy": "2025-03-22T19:05:39.088331Z",
     "iopub.status.idle": "2025-03-22T19:05:45.264906Z",
     "shell.execute_reply": "2025-03-22T19:05:45.264322Z",
     "shell.execute_reply.started": "2025-03-22T19:05:39.088523Z"
    }
   },
   "outputs": [
    {
     "name": "stderr",
     "output_type": "stream",
     "text": [
      "[Stage 109:==================================================>(2101 + 3) / 2113]\r"
     ]
    },
    {
     "name": "stdout",
     "output_type": "stream",
     "text": [
      "+--------------------+------------+--------------------+------------------+--------------------+\n",
      "|        QUERIES_GEOM|         QID|        OBJECTS_GEOM|          DISTANCE|                LINE|\n",
      "+--------------------+------------+--------------------+------------------+--------------------+\n",
      "|POINT (-110.885 4...|661425021290|POINT (-110.88769...|243.42429137166317|LINESTRING (-110....|\n",
      "|POINT (-110.885 4...|661425021290|POINT (-110.88651...|485.20524474148715|LINESTRING (-110....|\n",
      "|POINT (-110.885 4...|661425021290|POINT (-110.88520...| 643.5787783557646|LINESTRING (-110....|\n",
      "+--------------------+------------+--------------------+------------------+--------------------+\n",
      "only showing top 3 rows\n",
      "\n"
     ]
    },
    {
     "name": "stderr",
     "output_type": "stream",
     "text": [
      "                                                                                \r"
     ]
    }
   ],
   "source": [
    "df_related_rows.show(3)"
   ]
  },
  {
   "cell_type": "code",
   "execution_count": 22,
   "id": "65b69378-85bc-4f91-89fb-bb76ff0eb56f",
   "metadata": {
    "execution": {
     "iopub.execute_input": "2025-03-22T19:06:46.376665Z",
     "iopub.status.busy": "2025-03-22T19:06:46.376197Z",
     "iopub.status.idle": "2025-03-22T19:06:51.693910Z",
     "shell.execute_reply": "2025-03-22T19:06:51.693364Z",
     "shell.execute_reply.started": "2025-03-22T19:06:46.376640Z"
    }
   },
   "outputs": [
    {
     "name": "stderr",
     "output_type": "stream",
     "text": [
      "                                                                                \r"
     ]
    },
    {
     "data": {
      "text/plain": [
       "116040"
      ]
     },
     "execution_count": 22,
     "metadata": {},
     "output_type": "execute_result"
    }
   ],
   "source": [
    "df_knn_join.count()"
   ]
  },
  {
   "cell_type": "code",
   "execution_count": 23,
   "id": "d0554fe3-8362-4892-a2f8-355cff25dae7",
   "metadata": {
    "execution": {
     "iopub.execute_input": "2025-03-22T19:09:58.208432Z",
     "iopub.status.busy": "2025-03-22T19:09:58.208243Z",
     "iopub.status.idle": "2025-03-22T19:10:30.956371Z",
     "shell.execute_reply": "2025-03-22T19:10:30.955849Z",
     "shell.execute_reply.started": "2025-03-22T19:09:58.208419Z"
    }
   },
   "outputs": [
    {
     "name": "stdout",
     "output_type": "stream",
     "text": [
      "User Guide: https://docs.kepler.gl/docs/keplergl-jupyter\n"
     ]
    },
    {
     "name": "stderr",
     "output_type": "stream",
     "text": [
      "                                                                                \r"
     ]
    },
    {
     "data": {
      "application/vnd.jupyter.widget-view+json": {
       "model_id": "4c1d6599cff44c3eac02d38aec08469d",
       "version_major": 2,
       "version_minor": 0
      },
      "text/plain": [
       "KeplerGl(data={'PLACES': {'index': [0, 1, 2, 3, 4, 5, 6, 7, 8, 9, 10, 11, 12, 13, 14, 15, 16, 17, 18, 19, 20, …"
      ]
     },
     "execution_count": 23,
     "metadata": {},
     "output_type": "execute_result"
    }
   ],
   "source": [
    "# create map for the results\n",
    "map_view = SedonaKepler.create_map(df_unique_qid.select('QUERIES_GEOM'), name=\"PLACES\")\n",
    "SedonaKepler.add_df(map_view, df=df_related_rows.select('OBJECTS_GEOM', 'DISTANCE').withColumnRenamed(\"OBJECTS_GEOM\", \"geometry\"), name=\"FLIGHTS\")\n",
    "SedonaKepler.add_df(map_view, df=df_related_rows.select('LINE', 'DISTANCE').withColumnRenamed(\"LINE\", \"geometry\"), name=\"KNN LINES\")\n",
    "\n",
    "# show the map\n",
    "map_view"
   ]
  }
 ],
 "metadata": {
  "kernelspec": {
   "display_name": "Python 3 (ipykernel)",
   "language": "python",
   "name": "python3"
  },
  "language_info": {
   "codemirror_mode": {
    "name": "ipython",
    "version": 3
   },
   "file_extension": ".py",
   "mimetype": "text/x-python",
   "name": "python",
   "nbconvert_exporter": "python",
   "pygments_lexer": "ipython3",
   "version": "3.11.11"
  }
 },
 "nbformat": 4,
 "nbformat_minor": 5
}
